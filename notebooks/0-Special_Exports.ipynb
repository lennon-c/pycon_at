{
 "cells": [
  {
   "cell_type": "markdown",
   "id": "12ecbff2",
   "metadata": {},
   "source": [
    "The **Special Export** tool fetches specific pages with their raw content (*wikitext*) in real-time, without needing to download the entire dataset. The content is provided in XML format.\n",
    "\n",
    "\n",
    "\n",
    "## Importing Packages"
   ]
  },
  {
   "cell_type": "code",
   "execution_count": null,
   "id": "fdbb9bcb",
   "metadata": {},
   "outputs": [],
   "source": [
    "import requests # to fetch info from URLs"
   ]
  },
  {
   "cell_type": "markdown",
   "id": "a7655741",
   "metadata": {},
   "source": [
    "\n",
    "\n",
    "## Using the **Special Export** Tool\n",
    "\n",
    "You can actually use **Special:Export** to retrieve pages from *any* Wiki site. On the German Wiktionary, however, the tool is labelled **Spezial:Exportieren**, but it works the same way.\n",
    "\n",
    "\n",
    "**Exporting Pages from Any Wiki Site**\n",
    "\n",
    "To access the XML content of the page titled \"Austria\" from English Wikipedia, you can use the following Python code. When you press `run`, it will open the export link in your default browser:"
   ]
  },
  {
   "cell_type": "code",
   "execution_count": null,
   "id": "869f6cc8",
   "metadata": {},
   "outputs": [],
   "source": [
    "title = 'Austria'\n",
    "domain = 'en.wikipedia.org'\n",
    "url = f'https://{domain}/wiki/Special:Export/{title}'\n",
    "print(url)"
   ]
  },
  {
   "cell_type": "markdown",
   "id": "e1b7d368",
   "metadata": {},
   "source": [
    "\n",
    "\n",
    "**Exporting Pages from the German Wiktionary**\n",
    "\n",
    "For the German Wiktionary, the export tool uses `Spezial:Exportieren` instead of `Special:Export`. You can use similar Python code to open the export link for the page titled \"hoch\" (German for \"high\"):"
   ]
  },
  {
   "cell_type": "code",
   "execution_count": null,
   "id": "edd07a02",
   "metadata": {},
   "outputs": [],
   "source": [
    "title = 'hoch'\n",
    "domain = 'de.wiktionary.org'\n",
    "url = f'https://{domain}/wiki/Spezial:Exportieren/{title}'\n",
    "print(url)"
   ]
  },
  {
   "cell_type": "markdown",
   "id": "269111a2",
   "metadata": {},
   "source": [
    "\n",
    "\n",
    "## Fetching XML Data with `requests`\n",
    "\n",
    "\n",
    "To programmatically fetch and download XML content, you can use Python's `requests` library. This example shows how to build the URL, make a request, and get the XML content of a Wiktionary page by its title."
   ]
  },
  {
   "cell_type": "code",
   "execution_count": null,
   "id": "7b0e55b7",
   "metadata": {},
   "outputs": [],
   "source": [
    "def fetch(title):\n",
    "    # Construct the URL for the XML export of the given page title\n",
    "    url = f'https://de.wiktionary.org/wiki/Spezial:Exportieren/{title}'\n",
    "    \n",
    "    # Send a GET request\n",
    "    resp = requests.get(url)\n",
    "    \n",
    "    # Check if the request was successful, and raise an error if not\n",
    "    resp.raise_for_status()\n",
    "    \n",
    "    # Return the XML content of the requested page\n",
    "    return resp.text"
   ]
  },
  {
   "cell_type": "markdown",
   "id": "610e44bd",
   "metadata": {},
   "source": [
    "\n",
    "\n",
    "Next, let us attempt to retrieve the XML content for the page titled \"hoch\" and print the initial 500 bytes for a glimpse of the XML content."
   ]
  },
  {
   "cell_type": "code",
   "execution_count": null,
   "id": "ea834191",
   "metadata": {},
   "outputs": [],
   "source": [
    "page = fetch('hoch')\n",
    "print(page[:500])"
   ]
  },
  {
   "cell_type": "markdown",
   "id": "40c7b208",
   "metadata": {},
   "source": [
    "\n",
    "\n",
    "We will continue to use the `fetch` function throughout this tutorial.\n",
    "\n",
    "\n"
   ]
  }
 ],
 "metadata": {},
 "nbformat": 4,
 "nbformat_minor": 5
}
