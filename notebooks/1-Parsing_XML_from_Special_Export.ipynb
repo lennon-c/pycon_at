{
 "cells": [
  {
   "cell_type": "markdown",
   "id": "f5c9bab1",
   "metadata": {},
   "source": [
    "\n",
    "\n",
    "## Importing Packages "
   ]
  },
  {
   "cell_type": "code",
   "execution_count": null,
   "id": "afb978bb",
   "metadata": {},
   "outputs": [],
   "source": [
    "import requests # to fetch info from URLs\n",
    "import lxml.etree as ET # to parse XML documents"
   ]
  },
  {
   "cell_type": "markdown",
   "id": "01ef2134",
   "metadata": {},
   "source": [
    "\n",
    "\n",
    "We will use the `fetch` function as described in our earlier tutorial on Special Exports, provided here for reference."
   ]
  },
  {
   "cell_type": "code",
   "execution_count": null,
   "id": "1970de4d",
   "metadata": {},
   "outputs": [],
   "source": [
    "def fetch(title):\n",
    "    url = f'https://de.wiktionary.org/wiki/Spezial:Exportieren/{title}'\n",
    "    resp = requests.get(url)\n",
    "    resp.raise_for_status()\n",
    "    return resp.text"
   ]
  },
  {
   "cell_type": "markdown",
   "id": "88af3f0e",
   "metadata": {},
   "source": [
    "\n",
    "\n",
    "Let us fetch the XML content for the page titled `'schön'` as an example. "
   ]
  },
  {
   "cell_type": "code",
   "execution_count": null,
   "id": "72089e45",
   "metadata": {},
   "outputs": [],
   "source": [
    "xml_content = fetch('schön')\n",
    "print(xml_content[:500])\n",
    "print(f'{type(xml_content) = }')"
   ]
  },
  {
   "cell_type": "markdown",
   "id": "ded53266",
   "metadata": {},
   "source": [
    "\n",
    "\n",
    "## Parsing the XML content\n",
    "\n",
    "Now that we have retrieved the XML content, we will use `lxml.etree` to parse it. \n",
    "\n",
    "In order to parse an XML *string*, which is what `fetch` returns, we will use the  `fromstring` method. Later we will use the `parse` method to parse an XML *file*."
   ]
  },
  {
   "cell_type": "code",
   "execution_count": null,
   "id": "3e47623d",
   "metadata": {},
   "outputs": [],
   "source": [
    "# Parse the XML content into an ET Element\n",
    "root = ET.fromstring(xml_content)\n",
    "\n",
    "print(type(root)) # Output: <class 'lxml.etree._Element'>"
   ]
  },
  {
   "cell_type": "markdown",
   "id": "fe92ad1b",
   "metadata": {},
   "source": [
    "\n",
    "\n",
    "`ET.fromstring` returns an `Element` object with several useful properties.  \n",
    "From an `Element` object, you can extract:\n",
    "\n",
    "- its tag `<tag_name> ... </tag_name>`, using `Element.tag`\n",
    "- its attributes `<tag_name attribut1=\"value1\" attrib2=\"value2\"> ...`, using `Element.attrib`\n",
    "- its text `<tag_name attribut1=\"value1\"> some text </tag_name>`, using `Element.text`\n",
    "\n",
    "Let us create a dummy XML content to illustrate these:"
   ]
  },
  {
   "cell_type": "code",
   "execution_count": null,
   "id": "3811ba3e",
   "metadata": {},
   "outputs": [],
   "source": [
    "xml = \"\"\"\n",
    "<tag_name attribut1=\"value1\" attrib2=\"value2\"> some text </tag_name>\n",
    "\"\"\"\n",
    "\n",
    "element = ET.fromstring(xml)\n",
    "\n",
    "print('tag'.center(20, '*'))\n",
    "print(f'{element.tag = }')\n",
    "print(f'{type(element.tag) = }')\n",
    "\n",
    "print('attrib'.center(20, '*'))\n",
    "print(f'{element.attrib = }')\n",
    "print(f'{type(element.attrib) = }')\n",
    "\n",
    "print('text'.center(20, '*'))\n",
    "print(f'{element.text = }')\n",
    "print(f'{type(element.text) = }')"
   ]
  },
  {
   "cell_type": "markdown",
   "id": "5b3f10bc",
   "metadata": {},
   "source": [
    "\n",
    "\n",
    "## Displaying XML Structure\n",
    "\n",
    "XML data can often be large and complex, especially when deeply nested, which makes understanding its structure difficult.\n",
    "\n",
    "To help with this, let us create a helper function to display the XML tags in a tree-like format. Since we do not know how deep the XML structure might go, the best strategy here is to use *recursion* as follows:"
   ]
  },
  {
   "cell_type": "code",
   "execution_count": null,
   "id": "10d96d85",
   "metadata": {},
   "outputs": [],
   "source": [
    "def print_tags_tree(elem, level=0):\n",
    "    # print indent, level and tag of the element\n",
    "    print(' ' * 5 * level, level, elem.tag)\n",
    "    for child in elem:\n",
    "        # recursion to go as deep as possible\n",
    "        print_tags_tree(child, level + 1)"
   ]
  },
  {
   "cell_type": "markdown",
   "id": "5753e29c",
   "metadata": {},
   "source": [
    "\n",
    "\n",
    "Let us try it: "
   ]
  },
  {
   "cell_type": "code",
   "execution_count": null,
   "id": "c8901f37",
   "metadata": {},
   "outputs": [],
   "source": [
    "print_tags_tree(root)"
   ]
  },
  {
   "cell_type": "markdown",
   "id": "5db034b0",
   "metadata": {},
   "source": [
    "\n",
    "\n",
    "The output of `print_tags_tree` shows tags in a format that combines:\n",
    "\n",
    "- The **namespace** URI (e.g., `{http://www.mediawiki.org/xml/export-0.11/}`)\n",
    "- The **tag name** (e.g., `mediawiki`, `page`)\n",
    "\n",
    "Although knowing the namespace is important, as we will discover later, it makes the tree look very cluttered.\n",
    "\n",
    "To address this, let us modify the helper function to allow printing only the **tag names** in the tree.\n",
    "\n",
    "We will use the function `QName`, which splits the tag information of an `element` into its tag name and its namespace. Here is an example code using `QName`:"
   ]
  },
  {
   "cell_type": "code",
   "execution_count": null,
   "id": "e4287f1e",
   "metadata": {},
   "outputs": [],
   "source": [
    "print(f'{root.tag=}')\n",
    "\n",
    "# Using the ET function QName\n",
    "root_name = ET.QName(root)\n",
    "# only tag name\n",
    "print(f'{root_name.localname=}')\n",
    "# only namespace\n",
    "print(f'{root_name.namespace=}')"
   ]
  },
  {
   "cell_type": "markdown",
   "id": "da626ec9",
   "metadata": {},
   "source": [
    "\n",
    "\n",
    "Now, let us modify the `print_tags_tree` function to provide the option of printing only tag names when the `only_tagnames` parameter is set to `True`."
   ]
  },
  {
   "cell_type": "code",
   "execution_count": null,
   "id": "28502257",
   "metadata": {},
   "outputs": [],
   "source": [
    "\n",
    "def print_tags_tree(elem, level=0, only_tagnames=False):\n",
    "    tagname = ET.QName(elem).localname if only_tagnames else elem.tag\n",
    "\n",
    "    print(' ' * 5 * level, level, tagname)\n",
    "    for child in elem:\n",
    "        print_tags_tree(child, level + 1, only_tagnames)\n",
    "\n",
    "print_tags_tree(root, only_tagnames=True)"
   ]
  },
  {
   "cell_type": "markdown",
   "id": "55565b53",
   "metadata": {},
   "source": [
    "\n",
    " \n",
    "Better! This gives us a clear view of the structure:\n",
    "\n",
    "The root element is `mediawiki`.\n",
    "\n",
    "- `mediawiki` has two children:\n",
    "    - `siteinfo`\n",
    "        - Contains information about the domain (e.g., its sitename, Wiki namespace).\n",
    "    - `page`\n",
    "        - Contains the most important information for this project.\n",
    "        - `page` has four direct children: `title`, `ns`, `id`, and `revision`.\n",
    "            - `title` contains the title of the page\n",
    "                - For example, `schön`, `Flexion:schön`.\n",
    "            - `ns` contains the Wiki namespace, which should not be confused with XML namespaces!\n",
    "                - For example, `0`, `108`.\n",
    "            - `id` is the unique identifier of the page\n",
    "                - For example, `2930`, `21734`.\n",
    "            - `revision` contains a revision of the page.\n",
    "                - Each time a wiki page is modified, a `revision` element is added. In the XML extraction methods covered here, only the latest revision is retrieved, so we have only one `revision` element.\n",
    "                - The raw *wikitext* is located here in the child element `text`.\n",
    "\n",
    "The main goal of this section is to extract the `page`, `title`, `ns`, and `text` elements.\n",
    "\n",
    "But first, let us briefly discuss XML namespaces. If you are already familiar with XML namespaces, feel free to skip this part.\n",
    "\n",
    "## XML Namespaces Overview\n",
    "\n",
    "In XML, tag names and attributes are user-defined, which can lead to name conflicts when combining data from different XML files. To avoid these conflicts, XML uses a system of namespaces and prefixes. Each namespace is typically defined using a URI.\n",
    "\n",
    "Namespaces are often declared in the **root element** of the XML (but not always, they can also be declared in children elements).  To identify namespaces in an XML document, look for attributes beginning with `xmlns` and/or  `xmlns:prefix`. \n",
    "\n",
    "- *`xmlns` without a prefix*: This denotes the default namespace, applying to the element where it appears and all its descendants (unless overridden).\n",
    "- *`xmlns:prefix`*: This is a prefixed namespace. It applies only to elements that explicitly use the prefix.\n",
    "\n",
    "For example, in our Wiki XML, we see two namespaces defined at the root element:\n",
    "\n",
    "```xml\n",
    "<mediawiki xmlns=\"http://www.mediawiki.org/xml/export-0.11/\" xmlns:xsi=\"http://www.w3.org/2001/XMLSchema-instance\" \n",
    "```\n",
    "\n",
    "This gives us:\n",
    "\n",
    "- **Default Namespace**: `xmlns=\"http://www.mediawiki.org/xml/export-0.11/\"`, which applies to all elements without prefixes.\n",
    "- **Prefixed Namespace**: `xmlns:xsi=\"http://www.w3.org/2001/XMLSchema-instance\"` with the prefix `xsi`.\n",
    "\n",
    "An even simpler approach is to use the `nsmap` method, which provides a dictionary mapping prefixes to their respective URIs."
   ]
  },
  {
   "cell_type": "code",
   "execution_count": null,
   "id": "465b02f3",
   "metadata": {},
   "outputs": [],
   "source": [
    "NAMESPACES = root.nsmap\n",
    "for key, namespace in NAMESPACES.items():\n",
    "    print('prefix:', key,'=> namespace-URI:', namespace)"
   ]
  },
  {
   "cell_type": "markdown",
   "id": "20bcbc7b",
   "metadata": {},
   "source": [
    "\n",
    "\n",
    "## Extracting Data\n",
    "\n",
    "### `element.find` \n",
    "\n",
    "To extract elements from the XML, we will use the `find` method, which searches for the **first child element** with a specified **tag name** or **path**.\n",
    "\n",
    "Note that the following code will fail to find the `page` element and will return `None`. This is because `lxml` requires the correct namespace to be specified if the XML we are working with has declared any namespaces."
   ]
  },
  {
   "cell_type": "code",
   "execution_count": null,
   "id": "68ff5aaf",
   "metadata": {},
   "outputs": [],
   "source": [
    "# This will not work, because it lacks the required namespace\n",
    "page = root.find('page')\n",
    "print(page) # None"
   ]
  },
  {
   "cell_type": "markdown",
   "id": "b22d87fa",
   "metadata": {},
   "source": [
    "\n",
    "\n",
    "You can specify the namespace in two ways:\n",
    "\n",
    "- Using the full `{namespace}tagname` notation\n",
    "- Passing a **namespace dictionary** as an argument to `find`\n",
    "\n",
    "The following code will successfully retrieve the `page` element using each method:"
   ]
  },
  {
   "cell_type": "code",
   "execution_count": null,
   "id": "ffc73e8d",
   "metadata": {},
   "outputs": [],
   "source": [
    "# Full notation \n",
    "page = root.find('{http://www.mediawiki.org/xml/export-0.11/}page')\n",
    "print('Full notation:',page) \n",
    "\n",
    "# Namespace dictionary\n",
    "# NAMESPACES = {None: 'http://www.mediawiki.org/xml/export-0.11/'}\n",
    "NAMESPACES = root.nsmap\n",
    "page = root.find('page', NAMESPACES)\n",
    "print('Namespace dictionary:', page)  "
   ]
  },
  {
   "cell_type": "markdown",
   "id": "bc7bff9a",
   "metadata": {},
   "source": [
    "\n",
    "\n",
    "We will stick to the **namespace dictionary** to avoid writing the URL each time we need to use the `find` method.\n",
    "\n",
    "Now that we have successfully located the `page` element, we can retrieve its child elements `ns` and `title`."
   ]
  },
  {
   "cell_type": "code",
   "execution_count": null,
   "id": "d3141c54",
   "metadata": {},
   "outputs": [],
   "source": [
    "# Accessing Wiki namespace\n",
    "ns = page.find('ns', NAMESPACES)\n",
    "print(ns)\n",
    "print(ns.text) # '0'\n",
    "\n",
    "# Accessing the title of the page\n",
    "title = page.find('title', NAMESPACES)\n",
    "print(title)\n",
    "print(title.text) # schön"
   ]
  },
  {
   "cell_type": "markdown",
   "id": "8daa1a74",
   "metadata": {},
   "source": [
    "\n",
    "\n",
    "Finally, we want to retrieve the main content, or **wikitext**, which is stored in the `text` element.\n",
    "\n",
    "Note that we cannot use `page.find('text', NAMESPACES)` directly because `text` is not a direct child of `page`; it is nested under `revision`."
   ]
  },
  {
   "cell_type": "code",
   "execution_count": null,
   "id": "3dda100c",
   "metadata": {},
   "outputs": [],
   "source": [
    "# Print the tree of page, to find the path \n",
    "print_tags_tree(page, only_tagnames=True)"
   ]
  },
  {
   "cell_type": "markdown",
   "id": "39984159",
   "metadata": {},
   "source": [
    "\n",
    "\n",
    "Fortunately, the `find` method allows us to specify the path to a nested tag. In this case, we specify the path `revision/text` from `page` to `text`:"
   ]
  },
  {
   "cell_type": "code",
   "execution_count": null,
   "id": "911a373e",
   "metadata": {},
   "outputs": [],
   "source": [
    "wikitext = page.find('revision/text', NAMESPACES)\n",
    "print(wikitext)\n",
    "# Let's print the first 300 characters of the wikitext\n",
    "print(wikitext.text[:300])"
   ]
  },
  {
   "cell_type": "markdown",
   "id": "cfd29cae",
   "metadata": {},
   "source": [
    "\n",
    "\n",
    "We are done; we have just retrieved the **wikitext** content from the XML string.\n",
    "\n",
    "\n",
    "Before moving on to the next section, let us quickly recap what we have learned by using functions."
   ]
  },
  {
   "cell_type": "code",
   "execution_count": null,
   "id": "b61cc63c",
   "metadata": {},
   "outputs": [],
   "source": [
    "import requests\n",
    "import lxml.etree as ET\n",
    "\n",
    "def fetch(title):\n",
    "    url = f'https://de.wiktionary.org/wiki/Spezial:Exportieren/{title}'\n",
    "    resp = requests.get(url)\n",
    "    resp.raise_for_status()\n",
    "    return resp.text\n",
    "\n",
    "def fetch_wikitext(title):\n",
    "    xml_content = fetch(title)\n",
    "    root = ET.fromstring(xml_content)\n",
    "    namespaces  = root.nsmap\n",
    "    page = root.find('page', namespaces)\n",
    "    wikitext = page.find('revision/text', namespaces)\n",
    "    return wikitext.text \n",
    "\n",
    "# let us try it \n",
    "print(fetch_wikitext('schön')[:5000])"
   ]
  },
  {
   "cell_type": "markdown",
   "id": "926cf36d",
   "metadata": {},
   "source": [
    "\n",
    "\n"
   ]
  }
 ],
 "metadata": {},
 "nbformat": 4,
 "nbformat_minor": 5
}
