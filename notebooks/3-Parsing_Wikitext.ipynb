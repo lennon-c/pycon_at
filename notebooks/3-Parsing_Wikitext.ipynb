{
 "cells": [
  {
   "cell_type": "markdown",
   "id": "fa70cdcb",
   "metadata": {},
   "source": [
    "## Installing `mwparserfromhell` in Google Colab"
   ]
  },
  {
   "cell_type": "code",
   "execution_count": null,
   "id": "c1a75960",
   "metadata": {},
   "outputs": [],
   "source": [
    "!pip install mwparserfromhell"
   ]
  },
  {
   "cell_type": "markdown",
   "id": "9a1c11fd",
   "metadata": {},
   "source": [
    "\n",
    "\n",
    "## Importing Packages"
   ]
  },
  {
   "cell_type": "code",
   "execution_count": null,
   "id": "93678e4d",
   "metadata": {},
   "outputs": [],
   "source": [
    "import requests # to fetch info from URLs\n",
    "import lxml.etree as ET # to parse XML data\n",
    "import mwparserfromhell # to parse and analyze wikitext\n",
    "import re # to extract information using regular expressions\n",
    "import functools # to implement caching with a decorator"
   ]
  },
  {
   "cell_type": "markdown",
   "id": "a857a337",
   "metadata": {},
   "source": [
    "\n",
    "\n",
    "## Get the Wikitext Data\n",
    "\n",
    "We already know how to extract *wikitext* from **Dump** files and the **Special Exports tool**. In this section, we will parse the *wikitext*.\n",
    "\n",
    "We will use the page titled `stark` ([Wiktionary page](https://de.wiktionary.org/wiki/stark)) and the functions we created in the previous sections based on the **Special Export** method."
   ]
  },
  {
   "cell_type": "code",
   "execution_count": null,
   "id": "f2e8d7ee",
   "metadata": {},
   "outputs": [],
   "source": [
    "@functools.cache\n",
    "def fetch(title):\n",
    "    url = f'https://de.wiktionary.org/wiki/Spezial:Exportieren/{title}'\n",
    "    resp = requests.get(url)\n",
    "    resp.raise_for_status()\n",
    "    return resp.text\n",
    "\n",
    "def fetch_wikitext(title):\n",
    "    xml_content = fetch(title)\n",
    "    root = ET.fromstring(xml_content)\n",
    "    namespaces  = root.nsmap\n",
    "    page = root.find('page', namespaces)\n",
    "    wikitext = page.find('revision/text', namespaces)\n",
    "    return wikitext.text"
   ]
  },
  {
   "cell_type": "markdown",
   "id": "5c4c4c29",
   "metadata": {},
   "source": [
    "\n",
    "\n",
    "I added `@functools.cache`, optional, to avoid redundant requests and be more respectful to the server. Basically, `@functools.cache` stores results of `fetch(title)`, so repeated calls with the same title return the cached response instead of requesting the page again from the wiki servers. "
   ]
  },
  {
   "cell_type": "code",
   "execution_count": null,
   "id": "265b7d8c",
   "metadata": {},
   "outputs": [],
   "source": [
    "wikitext = fetch_wikitext('stark')\n",
    "print(wikitext[:1000])"
   ]
  },
  {
   "cell_type": "markdown",
   "id": "d851897b",
   "metadata": {},
   "source": [
    "\n",
    "\n",
    "## Parsing Wikitext \n",
    "\n",
    "First, we need to import `mwparserfromhell`. Then, we use the `parse` function and pass in our wikitext, which will return a `Wikicode` object."
   ]
  },
  {
   "cell_type": "code",
   "execution_count": null,
   "id": "5caeee6f",
   "metadata": {},
   "outputs": [],
   "source": [
    "parsed = mwparserfromhell.parse(wikitext)\n",
    "print(type(parsed)) # <class 'mwparserfromhell.wikicode.Wikicode'>"
   ]
  },
  {
   "cell_type": "markdown",
   "id": "f742e7a3",
   "metadata": {},
   "source": [
    "\n",
    "\n",
    "## Retrieving Headings and Sectioning\n",
    "\n",
    "`Wikicode` objects have several capabilities. You can obtain lists of different components of the *wikitext* by using a set of `filter` methods. For instance, you can use the `filter_headings` method to retrieve a list of all headings as follows:"
   ]
  },
  {
   "cell_type": "code",
   "execution_count": null,
   "id": "38b07684",
   "metadata": {},
   "outputs": [],
   "source": [
    "headings = parsed.filter_headings()\n",
    "print(type(headings)) # <class 'list'>\n",
    "print(len(headings)) # 11"
   ]
  },
  {
   "cell_type": "markdown",
   "id": "326570ac",
   "metadata": {},
   "source": [
    "\n",
    "\n",
    "We found 11 headings. Each element of the list is a `Heading` object. We can extract the `title` and the `level` of the heading objects.\n",
    "\n",
    "Let us inspect the first heading in the list:"
   ]
  },
  {
   "cell_type": "code",
   "execution_count": null,
   "id": "b56271e8",
   "metadata": {},
   "outputs": [],
   "source": [
    "heading = headings[0]\n",
    "\n",
    "print(f'{heading = }\\n{type(heading) = }\\n')\n",
    "\n",
    "print(f'{heading.level = }\\n{type(heading.level) = }\\n')\n",
    "\n",
    "print(f'{heading.title = }\\n{type(heading.title) = }\\n')"
   ]
  },
  {
   "cell_type": "markdown",
   "id": "6b769c7e",
   "metadata": {},
   "source": [
    "\n",
    "\n",
    "The first heading is a **second-level** heading with the title `stark ({{Sprache|Deutsch}})`. Notice that we did not find any **first-level** headings. This is because the **first-level** heading is reserved for internal use, and wiki contributors can only begin creating headings from the **second level** onwards.\n",
    "\n",
    "Let us use this information to create a helper function that prints the headings tree of the text."
   ]
  },
  {
   "cell_type": "code",
   "execution_count": null,
   "id": "9a18bce9",
   "metadata": {},
   "outputs": [],
   "source": [
    "def print_headings_tree(parsed):\n",
    "    headings = parsed.filter_headings()\n",
    "    for heading in headings:\n",
    "        print(' ' * 5 *(heading.level - 2), heading.level, heading.title)"
   ]
  },
  {
   "cell_type": "markdown",
   "id": "e211a08c",
   "metadata": {},
   "source": []
  },
  {
   "cell_type": "code",
   "execution_count": null,
   "id": "ab532fef",
   "metadata": {},
   "outputs": [],
   "source": [
    "print_headings_tree(parsed)"
   ]
  },
  {
   "cell_type": "markdown",
   "id": "d15fd9d9",
   "metadata": {},
   "source": [
    "\n",
    "\n",
    "- The first thing to notice when looking at the **second-level** headings is that the `Sprache` includes not only `Deutsch`, but also `Englisch` and `Schwedisch`.\n",
    "\n",
    "    - Indeed, wiktionaries are multilingual. Thus, the German Wiktionary does not only cover information related to the *German-to-German* dictionary, but also includes bilingual dictionaries for several languages to German, such as *English to German* in this example.\n",
    "\n",
    "- Notice as well that the **third-level** headings refer to the word forms (`Wortart`). A word can have one or more word forms. For instance, in English, `stark` is both an *adjective* and an *adverb*.\n",
    "\n",
    "- Finally, the **fourth-level** headings contain information on the translation of the word into different languages (`Übersetzungen`).\n",
    "\n",
    "For my project, I only need the *German-to-German* dictionary. So, let us extract the *wikitext* for that heading. We can use the method `get_sections()`, which accepts a heading level as an argument. Passing level **2** will split the text into sections based on the second-level headings."
   ]
  },
  {
   "cell_type": "code",
   "execution_count": null,
   "id": "b044079c",
   "metadata": {},
   "outputs": [],
   "source": [
    "sections = parsed.get_sections(levels=[2])\n",
    "print(len(sections)) # 3"
   ]
  },
  {
   "cell_type": "markdown",
   "id": "bb54d51f",
   "metadata": {},
   "source": [
    "\n",
    "\n",
    "We obtained a list of 3 sections, one for each of the languages.\n",
    "\n",
    "We could use `sections_DE = sections.pop(0)` to obtain the *German* section. Alternatively, we can use the `matches` parameter to retrieve sections whose heading title matches `Deutsch`, as follows:"
   ]
  },
  {
   "cell_type": "code",
   "execution_count": null,
   "id": "2c49f642",
   "metadata": {},
   "outputs": [],
   "source": [
    "sections_DE = parsed.get_sections(levels=[2], matches=\"Deutsch\")\n",
    "\n",
    "# get_section() retreives always a list!\n",
    "print(type(sections_DE)) # <class 'list'>\n",
    "print(len(sections_DE)) # 1\n",
    "\n",
    "# Get the first element.\n",
    "sections_DE = sections_DE[0]\n",
    "print(type(sections_DE)) # <class 'mwparserfromhell.wikicode.Wikicode'>"
   ]
  },
  {
   "cell_type": "markdown",
   "id": "1f76b8b6",
   "metadata": {},
   "source": [
    "\n",
    "\n",
    "Let us have a look inside the *German* section."
   ]
  },
  {
   "cell_type": "code",
   "execution_count": null,
   "id": "6cf7cd96",
   "metadata": {},
   "outputs": [],
   "source": [
    "print(sections_DE[:450])"
   ]
  },
  {
   "cell_type": "markdown",
   "id": "4cfbdfbe",
   "metadata": {},
   "source": [
    "\n",
    "\n",
    "Sections include all of their subheadings by default."
   ]
  },
  {
   "cell_type": "code",
   "execution_count": null,
   "id": "191290da",
   "metadata": {},
   "outputs": [],
   "source": [
    "print_headings_tree(sections_DE)"
   ]
  },
  {
   "cell_type": "markdown",
   "id": "e619924f",
   "metadata": {},
   "source": [
    "\n",
    "If you want to retrieve a section but not its subsections, set the `flat` parameter to `True`.\n",
    "\n",
    "For instance, if we want to retrieve `Wortart` sections (level 3) without including the translation sections `Übersetzungen` (level 4), we can use the following code:"
   ]
  },
  {
   "cell_type": "code",
   "execution_count": null,
   "id": "dc77dbf7",
   "metadata": {},
   "outputs": [],
   "source": [
    "# flat = True\n",
    "wordforms_DE = sections_DE.get_sections(levels=[3]\n",
    "                                        , matches=\"Wortart\"\n",
    "                                        , flat=True)\n",
    "\n",
    "# Get the first element\n",
    "wordforms_DE = wordforms_DE[0]\n",
    "\n",
    "# Check \n",
    "print_headings_tree(wordforms_DE) "
   ]
  },
  {
   "cell_type": "markdown",
   "id": "435aec5e",
   "metadata": {},
   "source": [
    "\n",
    "\n",
    "The most important information one might be interested in extracting is contained in the *Wortart* section. Here, you can find definitions, example phrases, synonyms, antonyms, rhymes, proverbs, translations, and more.\n",
    "\n",
    "Since most of this information is related in one way or another to templates, let us learn how to use `mwparserfromhell` to extract wiki templates.\n",
    "\n",
    "## Extracting Templates\n",
    "\n",
    "You can use the `filter_templates` method to obtain a list of templates. Each element in the returned list will be a `Template` object."
   ]
  },
  {
   "cell_type": "code",
   "execution_count": null,
   "id": "c6437464",
   "metadata": {},
   "outputs": [],
   "source": [
    "wordforms_tpls = wordforms_DE.filter_templates()\n",
    "print(len(wordforms_tpls)) # 49\n",
    "tpl = wordforms_tpls[0]\n",
    "print(type(tpl)) # <class 'mwparserfromhell.nodes.template.Template'>"
   ]
  },
  {
   "cell_type": "markdown",
   "id": "40cfa75d",
   "metadata": {},
   "source": [
    "\n",
    "\n",
    "The wikicode `wordforms_DE` contains 49 templates. Let us print the first 3 templates."
   ]
  },
  {
   "cell_type": "code",
   "execution_count": null,
   "id": "bc6befa2",
   "metadata": {},
   "outputs": [],
   "source": [
    "for tpl in wordforms_tpls[:3]:\n",
    "    print(tpl,'\\n')"
   ]
  },
  {
   "cell_type": "markdown",
   "id": "fede7f68",
   "metadata": {},
   "source": [
    "\n",
    "\n",
    "There are two important templates worth examining: the `Wortart` template and the `Übersicht` template. These are the first and second templates in the template list `wordforms_tpls`.\n",
    "\n",
    "\n",
    "### `Wortart` Template\n",
    "\n",
    "From the `Wortart` template, you can extract the *Part of Speech* (POS), which indicates the type of word, such as nouns, verbs, and adjectives.\n",
    "\n",
    "You can extract this template using `wortart_tpl = wortart_tpls[0]` or, alternatively, by using the `matches` parameter."
   ]
  },
  {
   "cell_type": "code",
   "execution_count": null,
   "id": "255fb320",
   "metadata": {},
   "outputs": [],
   "source": [
    "wortart_tpls = wordforms_DE.filter_templates(matches='Wortart')\n",
    "wortart_tpl = wortart_tpls[0]\n",
    "print(wortart_tpl) # {{Wortart|Adjektiv|Deutsch}}"
   ]
  },
  {
   "cell_type": "markdown",
   "id": "8611b4e0",
   "metadata": {},
   "source": [
    "\n",
    "\n",
    "Let us get the `name` and parameters (`params`) of the template:"
   ]
  },
  {
   "cell_type": "code",
   "execution_count": null,
   "id": "a1c64430",
   "metadata": {},
   "outputs": [],
   "source": [
    "print(wortart_tpl.name) # Wortart\n",
    "print(wortart_tpl.params) # ['Adjektiv', 'Deutsch']\n",
    "print(type(wortart_tpl.params)) # <class 'list'>"
   ]
  },
  {
   "cell_type": "markdown",
   "id": "9a05cfb1",
   "metadata": {},
   "source": [
    "\n",
    "\n",
    "The `wortart_tpl` template has two unnamed parameters. The first is assigned the name `'1'` and contains information about the POS of the word (here, `'Adjektiv'`). The second is assigned the name `'2'` and relates to the language (here, `'Deutsch'`).\n",
    "\n",
    "Since `wortart_tpl.params` is simply a list, you can use list **indexes** to extract any parameter. For instance, you can use `wortart_tpl.params[1]` to extract the second parameter.\n",
    "\n",
    "You can also extract a parameter by its **name** using the `get` method.\n",
    "\n",
    "Let us extract the POS parameter by name (`'1'`)."
   ]
  },
  {
   "cell_type": "code",
   "execution_count": null,
   "id": "60614af4",
   "metadata": {},
   "outputs": [],
   "source": [
    "pos = wortart_tpl.get('1')\n",
    "print(f'{type(pos) = }\\n')\n",
    " \n",
    "print(f'{pos.name = }')\n",
    "print(f'{type(pos.name) = }\\n')\n",
    "\n",
    "print(f'{pos.value = }')\n",
    "print(f'{type(pos.value) = }\\n')"
   ]
  },
  {
   "cell_type": "markdown",
   "id": "2617ff50",
   "metadata": {},
   "source": [
    "\n",
    "\n",
    "Note that the parameter `pos` is a `Parameter` object with `name` and `value` attributes. Also, notice that the `name` and `value` attributes are not strings but `Wikicode` objects!\n",
    "\n",
    "If you need the string representation of these objects, you can use the `str()` function. For instance, let us create a helper function that will transform the parameters of a `Template` into a dictionary of strings:"
   ]
  },
  {
   "cell_type": "code",
   "execution_count": null,
   "id": "ce8584bf",
   "metadata": {},
   "outputs": [],
   "source": [
    "def template_to_dict(template):\n",
    "    \"\"\"Get dictionary from template object.\"\"\"\n",
    "    params = {str(p.name).strip():str(p.value).strip() \n",
    "                for p in template.params}\n",
    "    return params"
   ]
  },
  {
   "cell_type": "markdown",
   "id": "74c9f557",
   "metadata": {},
   "source": []
  },
  {
   "cell_type": "code",
   "execution_count": null,
   "id": "57873c6a",
   "metadata": {},
   "outputs": [],
   "source": [
    "params = template_to_dict(wortart_tpl)\n",
    "for key, value in params.items():\n",
    "    print(key, '=' , value)"
   ]
  },
  {
   "cell_type": "markdown",
   "id": "bd1b3db1",
   "metadata": {},
   "source": [
    "\n",
    "\n",
    "### Conjugation or Declension Templates\n",
    "\n",
    "The \"conjugation or declension table,\" referred to as \"Flexionstabelle\" in the German Wiktionary, is constructed from templates whose names end with `Übersicht`:\n",
    "\n",
    "- `Deutsch Adjektiv Übersicht`\n",
    "- `Deutsch Substantiv Übersicht`\n",
    "- `Deutsch Verb Übersicht`, etc.\n",
    "\n",
    "Therefore, we can obtain these templates by matching the word `Übersicht`."
   ]
  },
  {
   "cell_type": "code",
   "execution_count": null,
   "id": "94272cdd",
   "metadata": {},
   "outputs": [],
   "source": [
    "übersichts_tpls = wordforms_DE.filter_templates(matches='Übersicht')\n",
    "\n",
    "# Check length\n",
    "print(len(übersichts_tpls)) # 1\n",
    "\n",
    "# Extract template\n",
    "übersichts_tpl = übersichts_tpls[0]\n",
    "\n",
    "# Print name\n",
    "print(f'{übersichts_tpl.name = }')"
   ]
  },
  {
   "cell_type": "markdown",
   "id": "0191f6d1",
   "metadata": {},
   "source": [
    "\n",
    "\n",
    "Let us print it using our helper function:"
   ]
  },
  {
   "cell_type": "code",
   "execution_count": null,
   "id": "cd0c3253",
   "metadata": {},
   "outputs": [],
   "source": [
    "for key, value in template_to_dict(übersichts_tpl).items():\n",
    "    print(key, '=' , value)"
   ]
  },
  {
   "cell_type": "markdown",
   "id": "b59585e4",
   "metadata": {},
   "source": [
    "\n",
    "\n",
    "This is more information than I need. I will exclude keys that contain `Bild` and all unnamed parameters (those with numeric names). These parameters relate to the images and their formatting that appear at the bottom of the declension table on the wiki page."
   ]
  },
  {
   "cell_type": "code",
   "execution_count": null,
   "id": "740bc087",
   "metadata": {},
   "outputs": [],
   "source": [
    "übersichts_dict = {k:v for k,v in template_to_dict(übersichts_tpl).items() \n",
    "                if 'Bild' not in k  \n",
    "                and not k.isnumeric()}"
   ]
  },
  {
   "cell_type": "markdown",
   "id": "f8f8ecbb",
   "metadata": {},
   "source": [
    "\n",
    "\n",
    "Let us see what we have obtained:"
   ]
  },
  {
   "cell_type": "code",
   "execution_count": null,
   "id": "2bae0c2e",
   "metadata": {},
   "outputs": [],
   "source": [
    "for key, value in übersichts_dict.items():\n",
    "    print(key, '=' , value)"
   ]
  },
  {
   "cell_type": "markdown",
   "id": "e3c9364c",
   "metadata": {},
   "source": [
    "\n",
    "That is exactly what I need. :fontawesome-regular-face-smile:\n",
    "\n",
    "\n",
    "## Extracting Other Important Content\n",
    "\n",
    "Although `mwparserfromhell` is an excellent tool, not all tasks can be accomplished using only this tool. Sometimes, it is necessary to incorporate regular expressions here and there.\n",
    "\n",
    "If you want to extract, for instance, the `Bedeutungen` (Meanings), the `Beispiele` (Phrase Examples), the `Synonyme` (Synonyms), or the `Sprichwörter` (Proverbs), among others, you may notice that they all follow the same pattern.\n",
    "\n",
    "We can take advantage of this pattern and begin writing the blocks for our regular expression right away.\n",
    "\n",
    "For all of them:\n",
    "\n",
    "- Their content is located in separate paragraphs:\n",
    "    - They start and end with two new lines `\\n\\n ... \\n\\n`.\n",
    "- The **first line** of the paragraph contains only a template without parameters, whose `name` indicates the type of content in the paragraph:\n",
    "    - For example, `{{Bedeutungen}}\\n` or `{{Beispiele}}\\n`.\n",
    "    - Note that `{` are special characters in regular expressions, so we must escape them using `\\`:\n",
    "        - `\\{\\{Bedeutungen\\}\\}\\n`.\n",
    "- From the **second line** onward, the content we want to extract begins:\n",
    "    - It includes at least one or more characters `.+`.\n",
    "    - It can span several lines.\n",
    "        - Note that `.` matches any character except new lines. Since we want the content to span multiple lines, we need to add the flag `re.DOTALL` so that `.` can match new lines (`\\n`) as well.\n",
    "    - It should stop when a new paragraph starts:\n",
    "        - To ensure this, we add the non-greedy qualifier `?`, making it `.+?`.\n",
    "    - Finally, we want to retrieve the content starting from the second line onward:\n",
    "        - To do this, we create a capturing group by enclosing it in parentheses:\n",
    "            - `(.+?)`.\n",
    "\n",
    "Putting everything together, we get the following pattern:\n",
    "\n",
    "`r'\\n\\n\\{\\{Bedeutungen\\}\\}\\n(.+?)\\n\\n'`, which should be used with the `re.DOTALL` flag. \n",
    "\n",
    "Let us try it using the `re.search` method:"
   ]
  },
  {
   "cell_type": "code",
   "execution_count": null,
   "id": "016f59c3",
   "metadata": {},
   "outputs": [],
   "source": [
    "# Define the pattern \n",
    "pattern = r'\\n\\n\\{\\{Bedeutungen\\}\\}\\n(.+?)\\n\\n'\n",
    "\n",
    "# Get your text (convert Wikicode to string)\n",
    "text = str(wordforms_DE)  \n",
    "\n",
    "# Perform the search\n",
    "search = re.search(pattern, text, re.DOTALL)\n",
    "\n",
    "# Extract the content from the capturing group\n",
    "bedeutungen_text = search.group(1)\n",
    "\n",
    "# Print some characters of the text\n",
    "print(bedeutungen_text[:300])"
   ]
  },
  {
   "cell_type": "markdown",
   "id": "fb2d14b2",
   "metadata": {},
   "source": [
    "\n",
    " \n",
    "We have obtained the content of `Bedeutungen`, but it is difficult to read because it contains many Wiki links `[[link]]` and indentation syntax `:`.\n",
    "\n",
    "To improve readability, we can use the `strip_code` method from `mwparserfromhell` to convert the Wikicode into plain text."
   ]
  },
  {
   "cell_type": "code",
   "execution_count": null,
   "id": "9b3bcca4",
   "metadata": {},
   "outputs": [],
   "source": [
    "# Parse the found text into Wikicode\n",
    "bedeutungen = mwparserfromhell.parse(bedeutungen_text)\n",
    "\n",
    "# Strip Wiki links, templates, and any special Wiki code\n",
    "bedeutungen_plain = bedeutungen.strip_code()\n",
    "\n",
    "# Print the start of the text \n",
    "print(bedeutungen_plain[:300])"
   ]
  },
  {
   "cell_type": "markdown",
   "id": "3d38d5ac",
   "metadata": {},
   "source": [
    "\n",
    " \n",
    "\n",
    "Finally, we will wrap this code into a function, allowing us to parse any content type by providing the content's `name`. We will also include an option to retrieve plain text when the `strip_code` option is set to `True`."
   ]
  },
  {
   "cell_type": "code",
   "execution_count": null,
   "id": "46517521",
   "metadata": {},
   "outputs": [],
   "source": [
    "def content_extract(name, text, strip_code=True):\n",
    "    # Adjust the pattern to accept the content name\n",
    "    pattern = r'\\n\\n\\{\\{' + name + r'\\}\\}\\n(.+?)\\n\\n'\n",
    "    search = re.search(pattern, text, re.DOTALL)\n",
    "    content = search.group(1)\n",
    "    # Return plain text if strip_code is True\n",
    "    if strip_code:\n",
    "        return mwparserfromhell.parse(content).strip_code()\n",
    "    # Return raw wikitext if strip_code is False\n",
    "    else:\n",
    "        return content"
   ]
  },
  {
   "cell_type": "markdown",
   "id": "4dc83365",
   "metadata": {},
   "source": [
    "\n",
    "\n",
    "Let us try it using the content types: 'Bedeutungen', 'Beispiele', 'Synonyme', 'Sprichwörter' and print the first 150 characters of each content."
   ]
  },
  {
   "cell_type": "code",
   "execution_count": null,
   "id": "c822c694",
   "metadata": {},
   "outputs": [],
   "source": [
    "# Get your text (convert Wikicode to string)\n",
    "text = str(wordforms_DE) \n",
    "\n",
    "# Get different content types\n",
    "for name in ['Bedeutungen', 'Beispiele', 'Synonyme', 'Sprichwörter']:\n",
    "    print(name.center(20, '-'))\n",
    "    content = content_extract(name, text)\n",
    "    print(content[:150], '\\n')"
   ]
  },
  {
   "cell_type": "markdown",
   "id": "f5ca3f28",
   "metadata": {},
   "source": [
    "\n",
    " \n",
    "What a fitting proverb (*Sprichwort*) to conclude this tutorial—it was not planned at all!  \n",
    "\n",
    "> *Was dich nicht umbringt, macht dich stärker*  \n",
    "\n",
    "A reminder that:  \n",
    "\n",
    "> *What does not kill you makes you stronger.*  \n",
    "\n",
    "We have now reached the end of this hands-on guide!  \n",
    "\n",
    "You can use this code to create your own **DerDieDas** game or to perform linguistic analyses.  \n",
    "\n",
    "If you are interested, feel free to explore the [`de_wiktio`](https://github.com/lennon-c/de_wiktio) project, which implements all the steps covered in this tutorial in one package.  \n",
    " \n",
    "\n",
    "\n",
    "\n"
   ]
  }
 ],
 "metadata": {},
 "nbformat": 4,
 "nbformat_minor": 5
}
